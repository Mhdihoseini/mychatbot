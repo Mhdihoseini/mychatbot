{
  "nbformat": 4,
  "nbformat_minor": 0,
  "metadata": {
    "colab": {
      "provenance": [],
      "authorship_tag": "ABX9TyOBeN46oLWIhezDdeBQbseT",
      "include_colab_link": true
    },
    "kernelspec": {
      "name": "python3",
      "display_name": "Python 3"
    },
    "language_info": {
      "name": "python"
    }
  },
  "cells": [
    {
      "cell_type": "markdown",
      "metadata": {
        "id": "view-in-github",
        "colab_type": "text"
      },
      "source": [
        "<a href=\"https://colab.research.google.com/github/Mhdihoseini/mychatbot/blob/main/mychatbot.ipynb\" target=\"_parent\"><img src=\"https://colab.research.google.com/assets/colab-badge.svg\" alt=\"Open In Colab\"/></a>"
      ]
    },
    {
      "cell_type": "code",
      "source": [
        "import requests\n",
        "\n",
        "out = requests.get(\"https://google.com\")\n",
        "\n",
        "print(out.content)\n"
      ],
      "metadata": {
        "id": "P-9JDT-DBRK5"
      },
      "execution_count": null,
      "outputs": []
    },
    {
      "cell_type": "code",
      "source": [
        "import requests as req\n",
        "\n",
        "out = req.get(\"http://5.161.91.18/chat?text=سلام چطوری؟\")\n",
        "\n",
        "print(out.json())"
      ],
      "metadata": {
        "colab": {
          "base_uri": "https://localhost:8080/"
        },
        "id": "jAlRO2QFDg8g",
        "outputId": "c19009ae-699a-43ce-ec84-d249af596942"
      },
      "execution_count": 9,
      "outputs": [
        {
          "output_type": "stream",
          "name": "stdout",
          "text": [
            "سلام به ربات چت جی پی تی آیولرن خوش آمدید. چطور میتوانم کمکتان کنم؟\n"
          ]
        }
      ]
    },
    {
      "cell_type": "code",
      "source": [
        "import requests as req\n",
        "\n",
        "soal=input(\"soal:\")\n",
        "\n",
        "out = req.get(\"http://5.161.91.18/chat?text=\"+soal)\n",
        "\n",
        "print(out.json())"
      ],
      "metadata": {
        "colab": {
          "base_uri": "https://localhost:8080/"
        },
        "id": "ZIva4jtiE8Oa",
        "outputId": "6a67b986-4f57-4984-e444-62cd46d93488"
      },
      "execution_count": 12,
      "outputs": [
        {
          "output_type": "stream",
          "name": "stdout",
          "text": [
            "soal:امروز هدا چند درجس؟\n",
            "امروز دمای هوا 30 درجه سانتی‌گراد است.\n"
          ]
        }
      ]
    }
  ]
}